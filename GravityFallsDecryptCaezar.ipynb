{
 "cells": [
  {
   "cell_type": "code",
   "execution_count": 1,
   "metadata": {},
   "outputs": [
    {
     "name": "stdout",
     "output_type": "stream",
     "text": [
      "vtyxnoj\n"
     ]
    }
   ],
   "source": [
    "abc = \"abcdefghijklmnopqrstuvwxyz\"\n",
    "caezar = lambda letter, shift: abc[(letter + shift - 1) % 26]\n",
    "code = '17-15-20-19-9-10-5'\n",
    "def decypher(code, shift):\n",
    "    result = \"\"\n",
    "    for el in code.split('-'):\n",
    "        result += caezar(int(el), shift)\n",
    "    return result\n",
    "\n",
    "print(decypher(code, 5))"
   ]
  },
  {
   "cell_type": "code",
   "execution_count": 2,
   "metadata": {
    "scrolled": true
   },
   "outputs": [
    {
     "name": "stdout",
     "output_type": "stream",
     "text": [
      "qotsije\n",
      "rputjkf\n",
      "sqvuklg\n",
      "trwvlmh\n",
      "usxwmni\n",
      "vtyxnoj\n",
      "wuzyopk\n",
      "xvazpql\n",
      "ywbaqrm\n",
      "zxcbrsn\n",
      "aydcsto\n",
      "bzedtup\n",
      "cafeuvq\n",
      "dbgfvwr\n",
      "echgwxs\n",
      "fdihxyt\n",
      "gejiyzu\n",
      "hfkjzav\n",
      "iglkabw\n",
      "jhmlbcx\n",
      "kinmcdy\n",
      "ljondez\n",
      "mkpoefa\n",
      "nlqpfgb\n",
      "omrqghc\n",
      "pnsrhid\n"
     ]
    }
   ],
   "source": [
    "def decypher_parse(code):\n",
    "    for i in range(26):\n",
    "        print(decypher(code, i))\n",
    "\n",
    "decypher_parse(code)"
   ]
  },
  {
   "cell_type": "markdown",
   "metadata": {},
   "source": [
    "<p>Здесь я начал перебирать слова из двух букв</p>\n",
    "<p>По расстоянию между буквами выяснил что <strong>9-18</strong> это <strong>of</strong></p>\n",
    "<p>Зная это, а также то что <strong>'5</strong> это <strong>'s</strong>, я понял что надо развернуть алфавит и узнал смещение <strong>3</strong></p>"
   ]
  },
  {
   "cell_type": "code",
   "execution_count": 3,
   "metadata": {},
   "outputs": [
    {
     "name": "stdout",
     "output_type": "stream",
     "text": [
      "gideons\n",
      "fhcdnmr\n",
      "egbcmlq\n",
      "dfablkp\n",
      "cezakjo\n",
      "bdyzjin\n",
      "acxyihm\n",
      "zbwxhgl\n",
      "yavwgfk\n",
      "xzuvfej\n",
      "wytuedi\n",
      "vxstdch\n",
      "uwrscbg\n",
      "tvqrbaf\n",
      "supqaze\n",
      "rtopzyd\n",
      "qsnoyxc\n",
      "prmnxwb\n",
      "oqlmwva\n",
      "npklvuz\n",
      "mojkuty\n",
      "lnijtsx\n",
      "kmhisrw\n",
      "jlghrqv\n",
      "ikfgqpu\n",
      "hjefpot\n"
     ]
    }
   ],
   "source": [
    "abc = 'wvutsrqponmlkjihgfedcbazyx'\n",
    "decypher_parse(code)"
   ]
  },
  {
   "cell_type": "markdown",
   "metadata": {},
   "source": [
    "Проверил предположение"
   ]
  },
  {
   "cell_type": "code",
   "execution_count": 4,
   "metadata": {},
   "outputs": [
    {
     "name": "stdout",
     "output_type": "stream",
     "text": [
      "gideons\n",
      "tantrums\n",
      "misspelled\n",
      "tattoos\n",
      "shandras\n",
      "rejections\n",
      "societys\n",
      "views\n",
      "a\n",
      "fear\n",
      "of\n",
      "witches\n",
      "a\n",
      "life\n",
      "of\n",
      "regret\n",
      "these\n",
      "are\n",
      "the\n",
      "things\n",
      "that\n",
      "they\n",
      "try\n",
      "to\n",
      "forget\n"
     ]
    }
   ],
   "source": [
    "code = \\\n",
    "\"\"\"17-15-20-19-9-10-5 4-23-10-4-6-3-11-5 11-15-5-5-8-19-12-12-19-20 4-23-4-4-9-9-5 5-16-23-10-20-6-23-5 6-19-14-19-21-4-15-9-10-5 5-9-21-15-19-4-25-5 2-15-19-1-5 23 18-19-23-6 9-18 1-15-4-21-16-19-5 23 12-15-18-19 9-18 6-19-17-6-19-4 4-16-19-5-19 23-6-19 4-16-19 4-16-15-10-17-5 4-16-23-4 4-16-19-25 4-6-25 4-9 18-9-6-17-19-4\"\"\"\n",
    "def decypher_parse(code):\n",
    "    for word in code.split():\n",
    "        result = decypher(word, 0)\n",
    "        print(result)\n",
    "\n",
    "decypher_parse(code)"
   ]
  },
  {
   "cell_type": "markdown",
   "metadata": {},
   "source": [
    "<h3>Вставляем на места знаки препинания и группируем слова в стих</h3>\n",
    "    <br/>\n",
    "<strong>\n",
    "    <p>gideon's tantrums,</p>\n",
    "    <p>misspelled tattoos,</p>\n",
    "    <p>shandra's rejections,</p>\n",
    "    <p>society's views,</p>\n",
    "    <br/>\n",
    "    <p>a fear of witches,</p>\n",
    "    <p>a life of regret,</p>\n",
    "    <p>these are the things</p>\n",
    "    <p>that they try to forget</p>\n",
    "</strong>"
   ]
  },
  {
   "cell_type": "markdown",
   "metadata": {},
   "source": [
    "<h2>Делаем использование чуть удобнее</h2>"
   ]
  },
  {
   "cell_type": "code",
   "execution_count": 5,
   "metadata": {},
   "outputs": [
    {
     "name": "stdout",
     "output_type": "stream",
     "text": [
      "gideons\n"
     ]
    }
   ],
   "source": [
    "def decrypt_text(text, shift=0, reverse_abc=False):\n",
    "    \"\"\"Расшифровывает текст \n",
    "    Возвращает строку\n",
    "    \n",
    "    Параметры:\n",
    "    text -- Итерируемые объекты, буквы должны быть символом\n",
    "    shift -- Сдвиг алфавита, должен быть int (По умолчанию 0)\n",
    "    reverse_abc -- Разворот алфавита, по умолчанию False,\n",
    "    Если задан сдвиг и разворот то сначала применяется разворот\n",
    "    \n",
    "    \n",
    "    \"\"\"\n",
    "    abc = \"abcdefghijklmnopqrstuvwxyz\"\n",
    "    orig_abc = abc\n",
    "    if reverse_abc:\n",
    "        abc = abc[::-1]\n",
    "    caezar = lambda letter_code: abc[(letter_code + shift + 25) % 26]\n",
    "    result = \"\"\n",
    "    for letter in text:\n",
    "        index = orig_abc.find(letter.lower()) + 1\n",
    "        if index == 0:\n",
    "            result += letter\n",
    "        else:\n",
    "            result += caezar(index)\n",
    "    \n",
    "    return result\n",
    "\n",
    "print(decrypt_text(\"qotsije\", 3, True))"
   ]
  },
  {
   "cell_type": "code",
   "execution_count": 6,
   "metadata": {},
   "outputs": [
    {
     "name": "stdout",
     "output_type": "stream",
     "text": [
      "qotsije\n"
     ]
    }
   ],
   "source": [
    "def code_to_text(text_code):\n",
    "    \"\"\"\n",
    "    text_code - строка - символы и цифровые обозначения символов должны быть разделены \"-\"\n",
    "    Пример: \"4-9-10-,- -4-16-19-'-12-12\"\n",
    "    \"\"\"\n",
    "    result = \"\"\n",
    "    for el in text_code.split('-'):\n",
    "        try:\n",
    "            el = int(el)\n",
    "            el = chr(el + ord('a') - 1)\n",
    "        except ValueError:\n",
    "            pass\n",
    "        result += el\n",
    "        \n",
    "    return result\n",
    "\n",
    "print(code_to_text('17-15-20-19-9-10-5'))"
   ]
  },
  {
   "cell_type": "code",
   "execution_count": 7,
   "metadata": {},
   "outputs": [
    {
     "name": "stdout",
     "output_type": "stream",
     "text": [
      "dsj eykvile\n",
      "hlwust wficjt\n",
      "w apssl\n",
      "\n",
      "vcd vfswm dps\n",
      "upwoj, wjt hwy\n",
      "dps uied\n",
      "\n",
      "pwjt oj pwjt\n",
      "dpsy'll vijt\n",
      "dpsy'll vijt\n",
      "dps eswl\n",
      "\n",
      "dps hfihpsuy\n",
      "aoll wll\n",
      "vs lied\n",
      "----------------------------------------\n",
      "ten symbols\n",
      "placed around\n",
      "a wheel\n",
      "\n",
      "but break the\n",
      "chain, and pay\n",
      "the cost\n",
      "\n",
      "hand in hand\n",
      "they'll bond\n",
      "they'll bond\n",
      "the seal\n",
      "\n",
      "the prophecy\n",
      "will all\n",
      "be lost\n"
     ]
    }
   ],
   "source": [
    "code = \\\n",
    "\"\"\"\n",
    "4-19-10- -5-25-11-22-9-12-5-\n",
    "-8-12-23-21-19-20- -23-6-9-3-10-20-\n",
    "-23- -1-16-19-19-12-\n",
    "-\n",
    "-22-3-4- -22-6-19-23-13- -4-16-19-\n",
    "-21-16-23-15-10-,- -23-10-20- -8-23-25-\n",
    "-4-16-19- -21-9-5-4-\n",
    "-\n",
    "-16-23-10-20- -15-10- -16-23-10-20-\n",
    "-4-16-19-25-'-12-12- -22-9-10-20-\n",
    "-4-16-19-25-'-12-12- -22-9-10-20-\n",
    "-4-16-19- -5-19-23-12-\n",
    "-\n",
    "-4-16-19- -8-6-9-8-16-19-21-25-\n",
    "-1-15-12-12- -23-12-12-\n",
    "-22-19- -12-9-5-4\n",
    "\"\"\"\n",
    "\n",
    "crypt_text = code_to_text(code)\n",
    "print(crypt_text)\n",
    "print('----------------------------------------')\n",
    "text = decrypt_text(crypt_text, 3, True)\n",
    "print(text)"
   ]
  },
  {
   "cell_type": "markdown",
   "metadata": {},
   "source": [
    "<h2>Простенькая программа для расшифровывания кода цезаря готова</h2>"
   ]
  },
  {
   "cell_type": "code",
   "execution_count": null,
   "metadata": {},
   "outputs": [],
   "source": []
  }
 ],
 "metadata": {
  "kernelspec": {
   "display_name": "Python 3",
   "language": "python",
   "name": "python3"
  },
  "language_info": {
   "codemirror_mode": {
    "name": "ipython",
    "version": 3
   },
   "file_extension": ".py",
   "mimetype": "text/x-python",
   "name": "python",
   "nbconvert_exporter": "python",
   "pygments_lexer": "ipython3",
   "version": "3.7.3"
  }
 },
 "nbformat": 4,
 "nbformat_minor": 2
}
